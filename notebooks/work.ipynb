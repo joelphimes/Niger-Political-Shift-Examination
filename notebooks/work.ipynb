{
 "cells": [
  {
   "cell_type": "markdown",
   "metadata": {},
   "source": [
    "## Import 1: Classes & Path"
   ]
  },
  {
   "cell_type": "code",
   "execution_count": null,
   "metadata": {},
   "outputs": [],
   "source": [
    "# Import 1. \n",
    "# Import functions.py into notebook from src folder. \n",
    "import sys\n",
    "\n",
    "# Path relative to your notebook.\n",
    "sys.path.append(\"/Users/joel/Desktop/daimil10/CAPSTONE_2/Niger-Political-Shift-Examination/src\")\n",
    "\n",
    "# Import my .py classes.\n",
    "import data_clean\n",
    "import plots\n",
    "\n",
    "# Auto reload.\n",
    "%load_ext autoreload\n",
    "%autoreload 2"
   ]
  },
  {
   "cell_type": "markdown",
   "metadata": {},
   "source": [
    "## Import 2: All Libs"
   ]
  },
  {
   "cell_type": "code",
   "execution_count": null,
   "metadata": {},
   "outputs": [],
   "source": [
    "import pandas as pd\n",
    "import numpy as np\n",
    "import pandas as pd\n",
    "import seaborn as sns\n",
    "import matplotlib.pyplot as plt\n",
    "from matplotlib import style"
   ]
  },
  {
   "cell_type": "markdown",
   "metadata": {},
   "source": [
    "## Read File & Inital Drop of Columns"
   ]
  },
  {
   "cell_type": "code",
   "execution_count": null,
   "metadata": {},
   "outputs": [],
   "source": [
    "# Read file in.\n",
    "# Dropping columns to trim data to 1996-2022.\n",
    "# Use clean class and init a cleaner object.\n",
    "cleaner = data_clean.Clean()\n",
    "\n",
    "niger = cleaner.read_file('/Users/joel/Desktop/daimil10/CAPSTONE_2/Niger-Political-Shift-Examination/data/Niger.csv')\n",
    "niger = niger.drop(['Country Name', 'Country Code', '1960', '1961', '1962', '1963', '1964', '1965', '1966', '1967', '1968',\n",
    "       '1969', '1970', '1971', '1972', '1973', '1974', '1975', '1976', '1977',\n",
    "       '1978', '1979', '1980', '1981', '1982', '1983', '1984', '1985', '1986',\n",
    "       '1987', '1988', '1989', '1990', '1991', '1992', '1993', '1994', '1995'], axis=1)\n",
    "\n",
    "# Make a metadata df for indicator name, source note, and source_org just in case.\n",
    "niger_meta = cleaner.read_file('/Users/joel/Desktop/daimil10/CAPSTONE_2/Niger-Political-Shift-Examination/data/Metadata_Indicator_Descriptors.csv')\n",
    "\n",
    "niger.head()"
   ]
  },
  {
   "cell_type": "markdown",
   "metadata": {},
   "source": [
    "## Describing the Dataset"
   ]
  },
  {
   "cell_type": "code",
   "execution_count": null,
   "metadata": {},
   "outputs": [],
   "source": [
    "# Describing the Dataset 1.\n",
    "niger.describe()"
   ]
  },
  {
   "cell_type": "code",
   "execution_count": null,
   "metadata": {},
   "outputs": [],
   "source": [
    "# Describing the Dataset 2.\n",
    "niger.info()"
   ]
  },
  {
   "cell_type": "code",
   "execution_count": null,
   "metadata": {},
   "outputs": [],
   "source": [
    "# Describing the Dataset 3.\n",
    "niger.index"
   ]
  },
  {
   "cell_type": "code",
   "execution_count": null,
   "metadata": {},
   "outputs": [],
   "source": [
    "# Describing the Dataset 4.\n",
    "niger.columns"
   ]
  },
  {
   "cell_type": "code",
   "execution_count": null,
   "metadata": {},
   "outputs": [],
   "source": [
    "# Describing the Dataset 5.\n",
    "missing_v = niger.isnull().sum()\n",
    "missing_v"
   ]
  },
  {
   "cell_type": "code",
   "execution_count": null,
   "metadata": {},
   "outputs": [],
   "source": [
    "# Describing the Dataset 6.\n",
    "# Using the function that spits outdict of col names and dtypes. \n",
    "cleaner.get_column_features(niger)"
   ]
  },
  {
   "cell_type": "markdown",
   "metadata": {},
   "source": [
    "## Project Goal #1:\n",
    "Examine overall World Governance Index from 1996 to 2022 (26 year span).\n",
    "- Political Stability and Absence of Violence/Terrorism measures perceptions of the likelihood of political instability and/or politically-motivated violence, including terrorism. Estimate gives the country's score on the aggregate indicator, in units of a standard normal distribution, i.e. ranging from approximately -2.5 to 2.5.\n",
    "\n",
    "- Control of Corruption captures perceptions of the extent to which public power is exercised for private gain, including both petty and grand forms of corruption, as well as \"capture\" of the state by elites and private interests. Estimate gives the country's score on the aggregate indicator, in units of a standard normal distribution, i.e. ranging from approximately -2.5 to 2.5.\n",
    "\n",
    "- Government Effectiveness captures perceptions of the quality of public services, the quality of the civil service and the degree of its independence from political pressures, the quality of policy formulation and implementation, and the credibility of the government's commitment to such policies. Estimate gives the country's score on the aggregate indicator, in units of a standard normal distribution, i.e. ranging from approximately -2.5 to 2.5.\n",
    "\n",
    "- Regulatory Quality captures perceptions of the ability of the government to formulate and implement sound policies and regulations that permit and promote private sector development. Estimate gives the country's score on the aggregate indicator, in units of a standard normal distribution, i.e. ranging from approximately -2.5 to 2.5.\n",
    "\n",
    "- Voice and Accountability captures perceptions of the extent to which a country's citizens are able to participate in selecting their government, as well as freedom of expression, freedom of association, and a free media. Estimate gives the country's score on the aggregate indicator, in units of a standard normal distribution, i.e. ranging from approximately -2.5 to 2.5.\n",
    "\n",
    "- Rule of Law captures perceptions of the extent to which agents have confidence in and abide by the rules of society, and in particular the quality of contract enforcement, property rights, the police, and the courts, as well as the likelihood of crime and violence. Estimate gives the country's score on the aggregate indicator, in units of a standard normal distribution, i.e. ranging from approximately -2.5 to 2.5."
   ]
  },
  {
   "cell_type": "code",
   "execution_count": null,
   "metadata": {},
   "outputs": [],
   "source": [
    "# Slice DF by PV.EST, CC.EST, GE.EST, RQ.EST, VA.EST, RL.EST indicator code which all make up the world governance index.\n",
    "indicator_codes = ['PV.EST', 'CC.EST', 'GE.EST']\n",
    "PG1 = niger[niger['Indicator Code'].isin(indicator_codes)]\n",
    "\n",
    "# Using replace for the labels since they are kinda long\n",
    "PG1['Indicator Name'] = PG1['Indicator Name'].replace('Political Stability and Absence of Violence/Terrorism: Estimate','Political Stability')\n",
    "PG1['Indicator Name'] = PG1['Indicator Name'].replace('Control of Corruption: Estimate','Control of Corruption')\n",
    "PG1['Indicator Name'] = PG1['Indicator Name'].replace('Government Effectiveness: Estimate','Government Effectiveness')\n",
    "\n",
    "# No Data for 1997, 1999, 2001, 2022\n",
    "PG1 = PG1.drop(['1997', '1999', '2001', '2022'], axis=1)\n",
    "\n",
    "# Use the style that i like.\n",
    "style.use('fivethirtyeight')\n",
    "\n",
    "# Figsize.\n",
    "plt.figure(figsize=(16, 9))\n",
    "\n",
    "# Plot each indicator code separately.\n",
    "for indicator in indicator_codes:\n",
    "    # Not to repeat.\n",
    "    if indicator in PG1['Indicator Code'].unique():\n",
    "        # Using indicator code to cycle through\n",
    "        indicator_data = PG1[PG1['Indicator Code'] == indicator]\n",
    "        # X = Year, Y= Aggregated Indicator Scale.\n",
    "        # values.flatten for the list of values.\n",
    "        # F string for label, used in last project.\n",
    "        plt.plot(indicator_data.columns[4:], indicator_data.iloc[:, 4:].values.flatten(), marker='o', label=f'{indicator_data[\"Indicator Name\"].iloc[0]}')\n",
    "\n",
    "# Label and title.\n",
    "plt.xlabel('Year', color='green')\n",
    "plt.ylabel('Aggregate Indicator', color='green')\n",
    "plt.title('World Governance Index For Niger', color='green')\n",
    "\n",
    "#Label for Coup: Change of Power.\n",
    "plt.plot([], [], ' ', label=\"Coup: Change of Power\")\n",
    "\n",
    "#Label for Attempted Coup.\n",
    "plt.plot([], [], ' ', label=\"Attempted Coup\")\n",
    "\n",
    "# Set the background color to white.\n",
    "plt.gca().set_facecolor('grey')\n",
    "\n",
    "# Using all the years present for the xticks.\n",
    "# Set the tick color to black.\n",
    "plt.xticks(rotation=45)\n",
    "plt.tick_params(axis='x', colors='black')\n",
    "plt.tick_params(axis='y', colors='black')\n",
    "\n",
    "# Show the legend.\n",
    "plt.legend()\n",
    "\n",
    "# plt.show.\n",
    "plt.show()"
   ]
  },
  {
   "cell_type": "markdown",
   "metadata": {},
   "source": [
    "## Project Goal #2:\n",
    "Explore economic down turn over specified time frame.\n",
    "\n",
    "- GDP per capita: is gross domestic product divided by midyear population. GDP is the sum of gross value added by all resident producers in the economy plus any product taxes and minus any subsidies not included in the value of the products. It is calculated without making deductions for depreciation of fabricated assets or for depletion and degradation of natural resources. Data are in current U.S. dollars.\n",
    "\n",
    "- General government expenditure on education: (current, capital, and transfers) is expressed as a percentage of GDP. It includes expenditure funded by transfers from international sources to government. General government usually refers to local, regional and central governments.\n",
    "\n",
    "- Labor force participation rate (Male/Female): is the proportion of the population ages 15 and older that is economically active: all people who supply labor for the production of goods and services during a specified period.\n",
    "\n",
    "- Public and publicly guaranteed debt comprises long-term external obligations of public debtors, including the national government,  Public Corporations, State Owned Enterprises, Development Banks and Other Mixed Enterprises, political subdivisions (or an agency of either), autonomous public bodies, and external obligations of private debtors that are guaranteed for repayment by a public entity. Data are in current U.S. dollars."
   ]
  },
  {
   "cell_type": "code",
   "execution_count": null,
   "metadata": {},
   "outputs": [],
   "source": [
    "# For some reason some of the indicator codes were not populating.\n",
    "# Made me do the long way istead. \n",
    "a = niger[niger['Indicator Code'] == 'SL.TLF.CACT.FE.ZS']\n",
    "b = niger[niger['Indicator Code'] == 'NY.GDP.PCAP.CD']\n",
    "c = niger[niger['Indicator Code'] == 'SL.TLF.CACT.MA.ZS']\n",
    "d = niger[niger['Indicator Code'] == 'SE.XPD.TOTL.GD.ZS']\n",
    "e = niger[niger['Indicator Code'] == 'DT.DOD.DPPG.CD']\n",
    "\n",
    "# Combine them vertically (stacked like).\n",
    "PG2 = pd.concat([a, b, c, d, e], axis=0)\n",
    "\n",
    "# Reset the index of the combined data frame (cause it was funky).\n",
    "PG2 = PG2.reset_index(drop=True)\n",
    "\n",
    "\n",
    "# Figsize.\n",
    "# Using series.plot show in Week 4 of learn material.  \n",
    "plt.figure(figsize=(16, 12))\n",
    "series.plot(kind='bar', stacked=True)\n",
    "\n",
    "# Add lables and title.\n",
    "plt.xlabel(x_label)\n",
    "plt.ylabel(y_label)\n",
    "plt.title(title)\n",
    "\n",
    "# Roatate xticks.\n",
    "plt.xticks(rotation= 45)\n",
    "\n",
    "# Set the background color to black.\n",
    "# https://matplotlib.org/stable/api/_as_gen/matplotlib.pyplot.gca.html helped a ton.. \n",
    "plt.gca().set_facecolor('black')\n",
    "\n",
    "# Wanted to get the legend in the bottom left corner.. \n",
    "# https://stackoverflow.com/questions/25068384/bbox-to-anchor-and-loc-in-matplotlib\n",
    "plt.legend(title='Method', bbox_to_anchor=(1.05, 0), loc='lower left')\n",
    "\n",
    "# plt.show.\n",
    "plt.show()\n"
   ]
  },
  {
   "cell_type": "markdown",
   "metadata": {},
   "source": [
    "## Project Goal #3:\n",
    "Highlight Political Regime Metrics (multiple coups and multiple leaders). "
   ]
  },
  {
   "cell_type": "code",
   "execution_count": null,
   "metadata": {},
   "outputs": [],
   "source": []
  },
  {
   "cell_type": "markdown",
   "metadata": {},
   "source": [
    "## Project Goal #4:\n",
    "Uncover data points related to corruption perception index & economic indicators. \n"
   ]
  },
  {
   "cell_type": "code",
   "execution_count": null,
   "metadata": {},
   "outputs": [],
   "source": []
  },
  {
   "cell_type": "markdown",
   "metadata": {},
   "source": [
    "## Project Goal #5:\n",
    "Hypo test (1, 2, 3, 4, or 5)"
   ]
  },
  {
   "cell_type": "code",
   "execution_count": null,
   "metadata": {},
   "outputs": [],
   "source": []
  },
  {
   "cell_type": "markdown",
   "metadata": {},
   "source": [
    "## Project Goal #6:\n",
    "Linear Model (1, 2, or 3)"
   ]
  },
  {
   "cell_type": "code",
   "execution_count": null,
   "metadata": {},
   "outputs": [],
   "source": []
  }
 ],
 "metadata": {
  "kernelspec": {
   "display_name": "Python 3 (ipykernel)",
   "language": "python",
   "name": "python3"
  },
  "language_info": {
   "codemirror_mode": {
    "name": "ipython",
    "version": 3
   },
   "file_extension": ".py",
   "mimetype": "text/x-python",
   "name": "python",
   "nbconvert_exporter": "python",
   "pygments_lexer": "ipython3",
   "version": "3.9.13"
  },
  "orig_nbformat": 4
 },
 "nbformat": 4,
 "nbformat_minor": 2
}
